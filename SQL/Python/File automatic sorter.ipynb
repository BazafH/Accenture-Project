{
 "cells": [
  {
   "cell_type": "code",
   "execution_count": 17,
   "id": "dcdf25f7-b647-4f27-8a15-5bad4c03fe09",
   "metadata": {},
   "outputs": [],
   "source": [
    "import os, shutil"
   ]
  },
  {
   "cell_type": "code",
   "execution_count": 19,
   "id": "2cdc39dc-0143-47ec-8685-594b88f4ed4d",
   "metadata": {},
   "outputs": [
    {
     "data": {
      "text/plain": [
       "'\\nHints\\n\\nmkdir\\nlistdir\\npath.exist\\n'"
      ]
     },
     "execution_count": 19,
     "metadata": {},
     "output_type": "execute_result"
    }
   ],
   "source": [
    "path ='D:\\\\python\\\\automated file sorter\\\\'\n",
    "\n",
    "\n",
    "\n",
    "\n",
    "\n",
    "\"\"\"\n",
    "Hints\n",
    "\n",
    "mkdir\n",
    "listdir\n",
    "path.exists\n",
    "\"\"\""
   ]
  },
  {
   "cell_type": "code",
   "execution_count": 49,
   "id": "9e2751d1-afad-410c-a5c4-72ee4016647c",
   "metadata": {},
   "outputs": [
    {
     "name": "stdout",
     "output_type": "stream",
     "text": [
      "['Capture.PNG', 'excel files', 'New Microsoft Excel Worksheet.xlsx', 'New Text Document.txt', 'pic files', 'text files']\n"
     ]
    }
   ],
   "source": [
    "file_list=os.listdir(path)        #Make list of files name as a list. \n",
    "print(file_list)"
   ]
  },
  {
   "cell_type": "code",
   "execution_count": 23,
   "id": "2333f11c-0995-4649-a104-82b8c89365de",
   "metadata": {},
   "outputs": [],
   "source": [
    "folders=['excel files', 'pic files', 'text files']\n",
    "for loop in folders:\n",
    "    if not os.path.exists(path+''+loop):\n",
    "        os.mkdir(path+''+loop)\n",
    "        "
   ]
  },
  {
   "cell_type": "code",
   "execution_count": 57,
   "id": "aa4e135e-740b-4e82-9352-b03eb90bb1f1",
   "metadata": {},
   "outputs": [],
   "source": [
    "for file in file_list:\n",
    "    if '.xlsx' in file and not os.path.exists(path+'excel files\\\\'+file) :\n",
    "        shutil.move(path+file,path+'excel files\\\\'+file)\n",
    "    if '.txt' in file and not os.path.exists(path+'text files\\\\'+file) :\n",
    "        shutil.move(path+file,path+'text files\\\\'+file)\n",
    "    if '.PNG' in file and not os.path.exists(path+'pic files\\\\'+file) :\n",
    "        shutil.move(path+file,path+'pic files\\\\'+file)"
   ]
  },
  {
   "cell_type": "code",
   "execution_count": 25,
   "id": "ad0b1d06-43fe-4f5a-8a10-a9dd65c6f21e",
   "metadata": {},
   "outputs": [
    {
     "data": {
      "text/plain": [
       "True"
      ]
     },
     "execution_count": 25,
     "metadata": {},
     "output_type": "execute_result"
    }
   ],
   "source": []
  },
  {
   "cell_type": "code",
   "execution_count": 59,
   "id": "6b0248c1-8b7f-404b-bc27-85115f5629ed",
   "metadata": {},
   "outputs": [
    {
     "name": "stdout",
     "output_type": "stream",
     "text": [
      "Defaulting to user installation because normal site-packages is not writeable\n",
      "Requirement already satisfied: lxml in c:\\programdata\\anaconda3\\lib\\site-packages (5.2.1)\n",
      "Note: you may need to restart the kernel to use updated packages.\n"
     ]
    }
   ],
   "source": [
    "pip install lxml"
   ]
  },
  {
   "cell_type": "code",
   "execution_count": 3,
   "id": "838eece6-c374-4b36-a432-7d702896ab88",
   "metadata": {},
   "outputs": [],
   "source": [
    "from bs4 import BeautifulSoup"
   ]
  },
  {
   "cell_type": "code",
   "execution_count": null,
   "id": "3b2bcce9-bce7-4295-a7e0-3f5b3457b843",
   "metadata": {},
   "outputs": [],
   "source": []
  }
 ],
 "metadata": {
  "kernelspec": {
   "display_name": "Python [conda env:base] *",
   "language": "python",
   "name": "conda-base-py"
  },
  "language_info": {
   "codemirror_mode": {
    "name": "ipython",
    "version": 3
   },
   "file_extension": ".py",
   "mimetype": "text/x-python",
   "name": "python",
   "nbconvert_exporter": "python",
   "pygments_lexer": "ipython3",
   "version": "3.12.7"
  }
 },
 "nbformat": 4,
 "nbformat_minor": 5
}
