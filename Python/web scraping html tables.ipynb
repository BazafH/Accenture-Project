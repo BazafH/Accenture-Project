{
 "cells": [
  {
   "cell_type": "code",
   "execution_count": 6,
   "id": "6d150e25-0723-4665-839d-6a777fcfd68e",
   "metadata": {},
   "outputs": [],
   "source": [
    "from bs4 import BeautifulSoup\n",
    "import requests\n",
    "url=requests.get(\"https://fastestlaps.com/tracks/adm-miachkovo\")\n",
    "soup=BeautifulSoup(url.text,\"lxml\")"
   ]
  },
  {
   "cell_type": "code",
   "execution_count": 10,
   "id": "1d9f2f19-884c-4b9d-9d95-d52a399efbc6",
   "metadata": {},
   "outputs": [
    {
     "name": "stdout",
     "output_type": "stream",
     "text": [
      "['Rank', 'Vehicle', 'Driver', 'Time', 'PS / KG']\n"
     ]
    }
   ],
   "source": [
    "header=[]\n",
    "for heading in soup.find_all(\"tr\"):\n",
    "    for u in heading.find_all(\"th\"):\n",
    "        header.append(u.text)\n",
    "\n",
    "print(header)\n",
    "\n"
   ]
  },
  {
   "cell_type": "code",
   "execution_count": 12,
   "id": "c65620e6-45ed-4a19-b687-5e1199186dbf",
   "metadata": {},
   "outputs": [
    {
     "name": "stdout",
     "output_type": "stream",
     "text": [
      "[['1.', 'Porsche 911 Turbo', 'Oleg Kesselman', '1:48.77', '500 / 1617'], ['2.', 'Porsche 911 Turbo S', 'Oleg Kesselman', '1:49.09', '530 / 1593'], ['3.', 'Nissan GT-R (R35)', 'unknown', '1:49.16', '480 / 1766'], ['4.', 'Audi R8 V10 5.2 FSI (Mk I)', 'unknown', '1:49.73', '525 / 1671'], ['5.', 'Lamborghini Gallardo SE', 'unknown', '1:49.80', '520 / 1640'], ['6.', 'Ferrari 458 Italia', 'Oleg Kesselman', '1:50.02', '570 / 1534'], ['7.', 'Porsche 911 Turbo (997)', 'unknown', '1:50.65', '480 / 1613'], ['8.', '911 Carrera 4S Cabriolet', 'Boris Shulmeister', '1:52.70', '400 / 1535'], ['9.', 'BMW M6 Cabrio (F12)', 'Boris Shulmeister', '1:53.90', '560 / 2046'], ['10.', 'Mercedes-Benz SL 63 AMG', 'unknown', '1:55.00', '537 / 1845'], ['11.', 'BMW M3 (E92)', 'unknown', '1:56.27', '420 / 1628'], ['12.', 'Jaguar F-Type V8 S', 'Boris Shulmeister', '1:56.30', '495 / 1776'], ['13.', 'Mitsubishi Lancer Evo X MR', 'unknown', '1:56.60', '295 / 1609'], ['14.', 'Mercedes-Benz C 63 AMG', 'unknown', '1:56.62', '457 / 1797'], ['15.', 'Mitsubishi Lancer EVO IX', 'unknown', '1:56.80', '290 / 1484'], ['16.', 'Subaru Impreza WRX STI (2.5)', 'unknown', '1:57.10', '300 / 1519'], ['17.', 'Mitsubishi Lancer Evo X', 'unknown', '1:57.40', '295 / 1584'], ['18.', 'Audi S4 (B8)', 'unknown', '1:57.80', '333 / 1754'], ['19.', 'BMW M3 Cabrio (E93)', 'unknown', '1:58.83', '420 / 1855'], ['20.', 'Porsche Cayman S (987)', 'unknown', '1:59.15', '295 / 1404'], ['21.', 'VW Golf R32 (Mk V)', 'Alexei Kurilkin', '1:59.60', '250 / 1591'], ['22.', 'Opel Astra OPC (J)', 'Oleg Kesselman', '1:59.70', '280 / 1550'], ['23.', 'Caterham 7 CSR 200', 'unknown', '2:00.90', '200 / 575'], ['24.', 'Audi TT 3.2 quattro (Mk II)', 'Kirill Ladygin', '2:00.99', '250 / 1458'], ['25.', 'Audi TT Roadster 3.2 (Mk II)', 'unknown', '2:00.99', '250 / 1539'], ['26.', 'Nissan 350Z (313 PS)', 'unknown', '2:01.54', '313 / 1545'], ['27.', 'Renault Megane RS (Mk III)', 'Oleg Kesselman', '2:01.60', '250 / 1406'], ['28.', 'Peugeot RCZ GT THP200', 'Oleg Kesselman', '2:02.00', '200 / 1360'], ['29.', 'BMW Z4 3.0si Coupe', 'unknown', '2:02.17', '265 / 1400'], ['30.', 'Toyota GT86', 'Oleg Kesselman', '2:02.20', '200 / 1239'], ['31.', 'Ford Focus ST', 'Oleg Kesselman', '2:02.40', '250 / 1450'], ['32.', 'Subaru BRZ', 'Oleg Kesselman', '2:02.40', '200 / 1251'], ['33.', 'Mini Cooper S (Mk II)', 'unknown', '2:02.70', '174 / 1200'], ['34.', 'Toyota Celica S', 'Scherbatkin  Slava', '2:03.00', '143 / 1124'], ['35.', 'Renault Clio RS III Cup', 'unknown', '2:03.60', '201 / 1239'], ['36.', 'Honda Civic Type-R (EP3)', 'Alexey Krasnoglazov', '2:03.69', '200 / 1238'], ['37.', 'Skoda Fabia RS (Mk II)', 'F. Dikarev', '2:04.05', '179 / 1264'], ['38.', 'Opel Corsa OPC (D)', 'unknown', '2:05.47', '192 / 1230'], ['39.', 'Ford Fiesta ST', 'unknown', '2:06.30', '150 / 1147'], ['40.', 'Volvo C30 T5', 'unknown', '2:06.82', '220 / 1459'], ['41.', 'Honda Civic Type-R (FN2)', 'unknown', '2:07.29', '201 / 1328'], ['42.', 'Mazda MX-5 2.0 (Mk III)', 'unknown', '2:08.17', '160 / 1141'], ['43.', 'Ford Focus RS', 'unknown', '2:10.20 w', '305 / 1474'], ['44.', 'Mazda 3 MPS (Mk II)', 'unknown', '2:12.50 w', '260 / 1464'], ['Country', 'Russia'], ['Track length', '3.27 km / 2.03 miles'], ['Track record', '1:48.8 - 911 Turbo'], ['Front-drive record', '1:59.7 - Opel Astra OPC'], ['4-door sedan record', '1:56.6 - Lancer Evo X MR'], ['Convertible record', '1:52.7 - 911 Carrera 4S..']]\n"
     ]
    }
   ],
   "source": [
    "table_data=[]\n",
    "for data in soup.find_all(\"tr\")[1:]:\n",
    "    row_wise=data.find_all(\"td\")\n",
    "    table_data.append([i.text for i in row_wise])\n",
    "\n",
    "print(table_data)"
   ]
  },
  {
   "cell_type": "code",
   "execution_count": 34,
   "id": "f2fdc35e-d7a7-46b3-9f9c-eb68b73677c4",
   "metadata": {},
   "outputs": [],
   "source": [
    "import pandas as pd\n",
    "df=pd.DataFrame(table_data,columns=header)\n",
    "df\n",
    "\n",
    "df.to_excel(r\"C:\\old laptop data\\data visualization\\speed.xlsx\",index=False)"
   ]
  },
  {
   "cell_type": "code",
   "execution_count": null,
   "id": "79c7a77c-72b6-42cb-a430-b85b1f9e8e44",
   "metadata": {},
   "outputs": [],
   "source": []
  }
 ],
 "metadata": {
  "kernelspec": {
   "display_name": "Python [conda env:base] *",
   "language": "python",
   "name": "conda-base-py"
  },
  "language_info": {
   "codemirror_mode": {
    "name": "ipython",
    "version": 3
   },
   "file_extension": ".py",
   "mimetype": "text/x-python",
   "name": "python",
   "nbconvert_exporter": "python",
   "pygments_lexer": "ipython3",
   "version": "3.12.7"
  }
 },
 "nbformat": 4,
 "nbformat_minor": 5
}
